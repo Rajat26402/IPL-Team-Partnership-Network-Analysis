{
 "cells": [
  {
   "cell_type": "code",
   "execution_count": 16,
   "id": "7b66a9d8",
   "metadata": {},
   "outputs": [],
   "source": [
    "import pandas as pd\n",
    "from numpy import median\n",
    "import numpy as np"
   ]
  },
  {
   "cell_type": "code",
   "execution_count": 17,
   "id": "81bda84d",
   "metadata": {},
   "outputs": [],
   "source": [
    "Gatik=pd.read_csv(\"KKR_DC_ipl2021.csv\")\n",
    "Gatik.drop(\"index\",axis=1,inplace=True)\n",
    "Rajat=pd.read_csv(\"SIN_CSK_RCB.csv\")\n",
    "Rajat.drop(\"index\",axis=1,inplace=True)\n",
    "df=pd.concat([Rajat,Gatik])\n",
    "df.dropna(inplace=True)"
   ]
  },
  {
   "cell_type": "code",
   "execution_count": 18,
   "id": "9212eb67",
   "metadata": {},
   "outputs": [
    {
     "data": {
      "text/plain": [
       "array(['Chennai Super Kings', 'Royal Challengers Bangalore',\n",
       "       'Kolkata Knight Riders', 'Delhi Capitals'], dtype=object)"
      ]
     },
     "execution_count": 18,
     "metadata": {},
     "output_type": "execute_result"
    }
   ],
   "source": [
    "df.team.unique()"
   ]
  },
  {
   "cell_type": "code",
   "execution_count": null,
   "id": "05ac72e8",
   "metadata": {},
   "outputs": [],
   "source": []
  },
  {
   "cell_type": "code",
   "execution_count": 19,
   "id": "faaa3d77",
   "metadata": {},
   "outputs": [],
   "source": [
    "def temper_with_data(s):\n",
    "    df_dc = df[df['team']==s]\n",
    "    l=[]\n",
    "    score_1=[]\n",
    "    score_2=[]\n",
    "    for index,x in df_dc.iterrows():\n",
    "        a=x[1]\n",
    "        b=x[2]\n",
    "        s1=x[3]\n",
    "        s2=x[4]\n",
    "        if(a>b):\n",
    "            a,b=b,a\n",
    "            s1,s2=s2,s1\n",
    "        l.append([a,b])\n",
    "        score_1.append(s1)\n",
    "        score_2.append(s2)\n",
    "    # df_dc['partners'] = [sorted([i,j]) for i,j in zip(df_dc['player_1'], df_dc['player_2'])]\n",
    "\n",
    "    df_dc['partners']=l\n",
    "    df_dc['score_1']=score_1\n",
    "    df_dc['score_2']=score_2\n",
    "    df_dc['partnership'] = [\"\".join(i) for i in df_dc['partners']]\n",
    "    # empty list to store players name\n",
    "    p1 = []\n",
    "    p2 = []\n",
    "\n",
    "    # empty lists to store median of runs scored\n",
    "    r1 = []\n",
    "    r2 = []\n",
    "\n",
    "    for p in df_dc['partnership'].unique():\n",
    "\n",
    "        temp = df_dc[df_dc['partnership'] == p]\n",
    "        p1.append(temp.iloc[0]['player_1'])\n",
    "        p2.append(temp.iloc[0]['player_2'])\n",
    "\n",
    "        a = []\n",
    "        b = []\n",
    "\n",
    "        # extract individual scores for both the players\n",
    "        for index, row in temp.iterrows():\n",
    "            # scores of player 1\n",
    "            a.append(row['score_1'])\n",
    "\n",
    "            # scores of player 2\n",
    "            b.append(row['score_2'])\n",
    "\n",
    "        # append median of scores    \n",
    "        r1.append(median(a))\n",
    "        r2.append(median(b))\n",
    "    team_df = pd.DataFrame({'p1':p1, 'p2':p2, 'r1':r1, 'r2':r2})\n",
    "#     team_df.head()\n",
    "    print(len(team_df))\n",
    "    team_df['lead'] = np.where(team_df['r1'] >= team_df['r2'], team_df['p1'], team_df['p2'])\n",
    "    team_df['follower'] = np.where(team_df['lead'] == team_df['p1'], team_df['p2'], team_df['p1'])\n",
    "    team_df['larger_score'] = np.where(team_df['r1'] >= team_df['r2'], team_df['r1'], team_df['r2'])\n",
    "    team_df['total_score'] = team_df['r1'] + team_df['r2']\n",
    "\n",
    "    # performance ratio\n",
    "    team_df['performance'] = team_df['larger_score']/(team_df['total_score']+0.01)\n",
    "#     print(team_df.head())\n",
    "    return team_df"
   ]
  },
  {
   "cell_type": "code",
   "execution_count": 20,
   "id": "6120a8fa",
   "metadata": {},
   "outputs": [
    {
     "name": "stdout",
     "output_type": "stream",
     "text": [
      "['Chennai Super Kings' 'Royal Challengers Bangalore'\n",
      " 'Kolkata Knight Riders' 'Delhi Capitals']\n",
      "34\n",
      "50\n",
      "44\n",
      "43\n"
     ]
    },
    {
     "name": "stderr",
     "output_type": "stream",
     "text": [
      "C:\\Users\\HP\\AppData\\Local\\Temp/ipykernel_1680/3223686411.py:19: SettingWithCopyWarning: \n",
      "A value is trying to be set on a copy of a slice from a DataFrame.\n",
      "Try using .loc[row_indexer,col_indexer] = value instead\n",
      "\n",
      "See the caveats in the documentation: https://pandas.pydata.org/pandas-docs/stable/user_guide/indexing.html#returning-a-view-versus-a-copy\n",
      "  df_dc['partners']=l\n",
      "C:\\Users\\HP\\AppData\\Local\\Temp/ipykernel_1680/3223686411.py:20: SettingWithCopyWarning: \n",
      "A value is trying to be set on a copy of a slice from a DataFrame.\n",
      "Try using .loc[row_indexer,col_indexer] = value instead\n",
      "\n",
      "See the caveats in the documentation: https://pandas.pydata.org/pandas-docs/stable/user_guide/indexing.html#returning-a-view-versus-a-copy\n",
      "  df_dc['score_1']=score_1\n",
      "C:\\Users\\HP\\AppData\\Local\\Temp/ipykernel_1680/3223686411.py:21: SettingWithCopyWarning: \n",
      "A value is trying to be set on a copy of a slice from a DataFrame.\n",
      "Try using .loc[row_indexer,col_indexer] = value instead\n",
      "\n",
      "See the caveats in the documentation: https://pandas.pydata.org/pandas-docs/stable/user_guide/indexing.html#returning-a-view-versus-a-copy\n",
      "  df_dc['score_2']=score_2\n",
      "C:\\Users\\HP\\AppData\\Local\\Temp/ipykernel_1680/3223686411.py:22: SettingWithCopyWarning: \n",
      "A value is trying to be set on a copy of a slice from a DataFrame.\n",
      "Try using .loc[row_indexer,col_indexer] = value instead\n",
      "\n",
      "See the caveats in the documentation: https://pandas.pydata.org/pandas-docs/stable/user_guide/indexing.html#returning-a-view-versus-a-copy\n",
      "  df_dc['partnership'] = [\"\".join(i) for i in df_dc['partners']]\n"
     ]
    }
   ],
   "source": [
    "team_names=df.team.unique()\n",
    "print(team_names)\n",
    "m={'Chennai Super Kings':'CSK','Royal Challengers Bangalore':'RCB','Kolkata Knight Riders':'KKR','Delhi Capitals':'DC'}\n",
    "all_df={}\n",
    "for i in team_names:\n",
    "#     print(type(i))\n",
    "    all_df[m[i]]=temper_with_data(i)\n",
    "# all_df"
   ]
  },
  {
   "cell_type": "code",
   "execution_count": 21,
   "id": "2696c766",
   "metadata": {},
   "outputs": [
    {
     "name": "stdout",
     "output_type": "stream",
     "text": [
      "CSK\n",
      "RCB\n",
      "KKR\n",
      "DC\n"
     ]
    }
   ],
   "source": [
    "for x in all_df:\n",
    "    all_df[x].to_csv(f\"{x}.csv\")\n",
    "    print(x)\n",
    "# all_df['CSK']"
   ]
  },
  {
   "cell_type": "code",
   "execution_count": null,
   "id": "1b622e88",
   "metadata": {},
   "outputs": [],
   "source": []
  }
 ],
 "metadata": {
  "kernelspec": {
   "display_name": "Python 3 (ipykernel)",
   "language": "python",
   "name": "python3"
  },
  "language_info": {
   "codemirror_mode": {
    "name": "ipython",
    "version": 3
   },
   "file_extension": ".py",
   "mimetype": "text/x-python",
   "name": "python",
   "nbconvert_exporter": "python",
   "pygments_lexer": "ipython3",
   "version": "3.9.7"
  }
 },
 "nbformat": 4,
 "nbformat_minor": 5
}
